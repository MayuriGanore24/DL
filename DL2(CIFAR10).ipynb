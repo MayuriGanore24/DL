{
 "cells": [
  {
   "cell_type": "code",
   "execution_count": 13,
   "id": "cf1c7a1d-aacd-425c-9ca9-a6683459c154",
   "metadata": {},
   "outputs": [],
   "source": [
    "import numpy as np\n",
    "import pandas as pd\n",
    "import tensorflow as tf\n",
    "from tensorflow import keras\n",
    "import random\n",
    "import matplotlib.pyplot as plt"
   ]
  },
  {
   "cell_type": "code",
   "execution_count": 15,
   "id": "87edadbd-ca57-4917-a4d2-d4c19fb0f490",
   "metadata": {},
   "outputs": [],
   "source": [
    "cifardataset=tf.keras.datasets.cifar10\n",
    "(x_train,y_train),(x_test,y_test)=cifardataset.load_data()"
   ]
  },
  {
   "cell_type": "code",
   "execution_count": 16,
   "id": "abbded8f-3494-4539-8f0a-3b2fad9580d7",
   "metadata": {},
   "outputs": [
    {
     "name": "stdout",
     "output_type": "stream",
     "text": [
      "Training data Size: 50000\n"
     ]
    }
   ],
   "source": [
    "print(\"Training data Size:\",len(x_train))"
   ]
  },
  {
   "cell_type": "code",
   "execution_count": 17,
   "id": "c6d02c9a-363a-4c27-ab63-a630f8d89c52",
   "metadata": {},
   "outputs": [
    {
     "name": "stdout",
     "output_type": "stream",
     "text": [
      "Testing data Size: 10000\n"
     ]
    }
   ],
   "source": [
    "print(\"Testing data Size:\",len(x_test))"
   ]
  },
  {
   "cell_type": "code",
   "execution_count": 18,
   "id": "55c8471c-20ac-408d-8e67-07adcc08244d",
   "metadata": {},
   "outputs": [
    {
     "name": "stdout",
     "output_type": "stream",
     "text": [
      "Matrix of 0th position:\n",
      " [[[ 59  62  63]\n",
      "  [ 43  46  45]\n",
      "  [ 50  48  43]\n",
      "  ...\n",
      "  [158 132 108]\n",
      "  [152 125 102]\n",
      "  [148 124 103]]\n",
      "\n",
      " [[ 16  20  20]\n",
      "  [  0   0   0]\n",
      "  [ 18   8   0]\n",
      "  ...\n",
      "  [123  88  55]\n",
      "  [119  83  50]\n",
      "  [122  87  57]]\n",
      "\n",
      " [[ 25  24  21]\n",
      "  [ 16   7   0]\n",
      "  [ 49  27   8]\n",
      "  ...\n",
      "  [118  84  50]\n",
      "  [120  84  50]\n",
      "  [109  73  42]]\n",
      "\n",
      " ...\n",
      "\n",
      " [[208 170  96]\n",
      "  [201 153  34]\n",
      "  [198 161  26]\n",
      "  ...\n",
      "  [160 133  70]\n",
      "  [ 56  31   7]\n",
      "  [ 53  34  20]]\n",
      "\n",
      " [[180 139  96]\n",
      "  [173 123  42]\n",
      "  [186 144  30]\n",
      "  ...\n",
      "  [184 148  94]\n",
      "  [ 97  62  34]\n",
      "  [ 83  53  34]]\n",
      "\n",
      " [[177 144 116]\n",
      "  [168 129  94]\n",
      "  [179 142  87]\n",
      "  ...\n",
      "  [216 184 140]\n",
      "  [151 118  84]\n",
      "  [123  92  72]]]\n"
     ]
    }
   ],
   "source": [
    "print(\"Matrix of 0th position:\\n\",x_train[0])"
   ]
  },
  {
   "cell_type": "code",
   "execution_count": 21,
   "id": "2289921f-850b-4ce4-9a71-13e75882362e",
   "metadata": {},
   "outputs": [
    {
     "name": "stdout",
     "output_type": "stream",
     "text": [
      "visuaization of Image:\n",
      "\n"
     ]
    },
    {
     "data": {
      "text/plain": [
       "<matplotlib.image.AxesImage at 0x1c0330fb890>"
      ]
     },
     "execution_count": 21,
     "metadata": {},
     "output_type": "execute_result"
    },
    {
     "data": {
      "image/png": "[encoded data removed]",
      "text/plain": [
       "<Figure size 480x480 with 1 Axes>"
      ]
     },
     "metadata": {},
     "output_type": "display_data"
    }
   ],
   "source": [
    "print(\"visuaization of Image:\\n\",)\n",
    "plt.matshow(x_train[20])"
   ]
  },
  {
   "cell_type": "code",
   "execution_count": 22,
   "id": "d209e16c-f2a3-4b63-9a26-ce50bc843ddf",
   "metadata": {},
   "outputs": [],
   "source": [
    "x_train=x_train/255\n",
    "y_train=y_train/255"
   ]
  },
  {
   "cell_type": "code",
   "execution_count": 24,
   "id": "041083ad-822b-464b-96a1-a77dc020a068",
   "metadata": {},
   "outputs": [
    {
     "name": "stdout",
     "output_type": "stream",
     "text": [
      "visuaization of Image After Normalization:\n",
      "\n"
     ]
    },
    {
     "data": {
      "text/plain": [
       "<matplotlib.image.AxesImage at 0x1c036f63890>"
      ]
     },
     "execution_count": 24,
     "metadata": {},
     "output_type": "execute_result"
    },
    {
     "data": {
      "image/png": "[encoded data removed]",
      "text/plain": [
       "<Figure size 480x480 with 1 Axes>"
      ]
     },
     "metadata": {},
     "output_type": "display_data"
    }
   ],
   "source": [
    "print(\"visuaization of Image After Normalization:\\n\",)\n",
    "plt.matshow(x_train[20])"
   ]
  },
  {
   "cell_type": "code",
   "execution_count": 23,
   "id": "9b8f8c34-77a3-433c-91e8-ac9f28f31764",
   "metadata": {},
   "outputs": [
    {
     "name": "stdout",
     "output_type": "stream",
     "text": [
      "visuaization of Image After Normalization:\n",
      "\n"
     ]
    },
    {
     "data": {
      "text/plain": [
       "<matplotlib.image.AxesImage at 0x1c036e8d910>"
      ]
     },
     "execution_count": 23,
     "metadata": {},
     "output_type": "execute_result"
    },
    {
     "data": {
      "image/png": "[encoded data removed]",
      "text/plain": [
       "<Figure size 480x480 with 1 Axes>"
      ]
     },
     "metadata": {},
     "output_type": "display_data"
    }
   ],
   "source": [
    "print(\"visuaization of Image After Normalization:\\n\",)\n",
    "plt.matshow(x_train[20])"
   ]
  },
  {
   "cell_type": "markdown",
   "id": "e110752c-2856-4af9-8f8c-95c375e75261",
   "metadata": {},
   "source": [
    "Define the Model"
   ]
  },
  {
   "cell_type": "code",
   "execution_count": 33,
   "id": "2f5ef4d1-eac8-4bda-8e5e-936fa01ea21d",
   "metadata": {},
   "outputs": [],
   "source": [
    "model=keras.Sequential([\n",
    "    keras.layers.Flatten(input_shape=(32,32,3)),\n",
    "    keras.layers.Dense(128,activation=\"sigmoid\"),\n",
    "    keras.layers.Dense(10,activation=\"softmax\")\n",
    "])"
   ]
  },
  {
   "cell_type": "markdown",
   "id": "b4b8acb0-3e7a-4918-8da2-2802a1fc05d1",
   "metadata": {},
   "source": [
    "Compile the Model"
   ]
  },
  {
   "cell_type": "code",
   "execution_count": 34,
   "id": "7d3fac1b-3f93-438c-b4f7-d64bcddc1e45",
   "metadata": {},
   "outputs": [],
   "source": [
    "model.compile(\n",
    "    optimizer='sgd',\n",
    "    loss='sparse_categorical_crossentropy',\n",
    "    metrics=['accuracy'])"
   ]
  },
  {
   "cell_type": "markdown",
   "id": "9e8fc342-1536-4039-afcc-5131695fc742",
   "metadata": {},
   "source": [
    "Train the Model"
   ]
  },
  {
   "cell_type": "code",
   "execution_count": 35,
   "id": "74dfaa37-18d4-412f-b745-703c99d7e0dc",
   "metadata": {},
   "outputs": [
    {
     "name": "stdout",
     "output_type": "stream",
     "text": [
      "Epoch 1/10\n",
      "\u001b[1m1563/1563\u001b[0m \u001b[32m━━━━━━━━━━━━━━━━━━━━\u001b[0m\u001b[37m\u001b[0m \u001b[1m7s\u001b[0m 4ms/step - accuracy: 0.0988 - loss: 0.0379 - val_accuracy: 0.1000 - val_loss: 11.3975\n",
      "Epoch 2/10\n",
      "\u001b[1m1563/1563\u001b[0m \u001b[32m━━━━━━━━━━━━━━━━━━━━\u001b[0m\u001b[37m\u001b[0m \u001b[1m7s\u001b[0m 5ms/step - accuracy: 0.0993 - loss: 6.5846e-04 - val_accuracy: 0.1000 - val_loss: 11.9688\n",
      "Epoch 3/10\n",
      "\u001b[1m1563/1563\u001b[0m \u001b[32m━━━━━━━━━━━━━━━━━━━━\u001b[0m\u001b[37m\u001b[0m \u001b[1m6s\u001b[0m 4ms/step - accuracy: 0.1005 - loss: 3.6060e-04 - val_accuracy: 0.1000 - val_loss: 12.3040\n",
      "Epoch 4/10\n",
      "\u001b[1m1563/1563\u001b[0m \u001b[32m━━━━━━━━━━━━━━━━━━━━\u001b[0m\u001b[37m\u001b[0m \u001b[1m7s\u001b[0m 5ms/step - accuracy: 0.1010 - loss: 2.5026e-04 - val_accuracy: 0.1000 - val_loss: 12.5425\n",
      "Epoch 5/10\n",
      "\u001b[1m1563/1563\u001b[0m \u001b[32m━━━━━━━━━━━━━━━━━━━━\u001b[0m\u001b[37m\u001b[0m \u001b[1m6s\u001b[0m 4ms/step - accuracy: 0.0991 - loss: 1.9515e-04 - val_accuracy: 0.1000 - val_loss: 12.7277\n",
      "Epoch 6/10\n",
      "\u001b[1m1563/1563\u001b[0m \u001b[32m━━━━━━━━━━━━━━━━━━━━\u001b[0m\u001b[37m\u001b[0m \u001b[1m6s\u001b[0m 4ms/step - accuracy: 0.0989 - loss: 1.5398e-04 - val_accuracy: 0.1000 - val_loss: 12.8803\n",
      "Epoch 7/10\n",
      "\u001b[1m1563/1563\u001b[0m \u001b[32m━━━━━━━━━━━━━━━━━━━━\u001b[0m\u001b[37m\u001b[0m \u001b[1m7s\u001b[0m 4ms/step - accuracy: 0.0993 - loss: 1.3019e-04 - val_accuracy: 0.1000 - val_loss: 13.0089\n",
      "Epoch 8/10\n",
      "\u001b[1m1563/1563\u001b[0m \u001b[32m━━━━━━━━━━━━━━━━━━━━\u001b[0m\u001b[37m\u001b[0m \u001b[1m10s\u001b[0m 4ms/step - accuracy: 0.0999 - loss: 1.1238e-04 - val_accuracy: 0.1000 - val_loss: 13.1208\n",
      "Epoch 9/10\n",
      "\u001b[1m1563/1563\u001b[0m \u001b[32m━━━━━━━━━━━━━━━━━━━━\u001b[0m\u001b[37m\u001b[0m \u001b[1m11s\u001b[0m 5ms/step - accuracy: 0.0996 - loss: 9.7005e-05 - val_accuracy: 0.1000 - val_loss: 13.2199\n",
      "Epoch 10/10\n",
      "\u001b[1m1563/1563\u001b[0m \u001b[32m━━━━━━━━━━━━━━━━━━━━\u001b[0m\u001b[37m\u001b[0m \u001b[1m6s\u001b[0m 4ms/step - accuracy: 0.0996 - loss: 8.6976e-05 - val_accuracy: 0.1000 - val_loss: 13.3086\n"
     ]
    }
   ],
   "source": [
    "history=model.fit(\n",
    "    x_train,\n",
    "    y_train,\n",
    "    epochs=10,\n",
    "    validation_data=(x_test,y_test))"
   ]
  },
  {
   "cell_type": "markdown",
   "id": "5b61b73e-135d-417f-8f2f-966230bf9a04",
   "metadata": {},
   "source": [
    "Evaluate the Model"
   ]
  },
  {
   "cell_type": "code",
   "execution_count": 36,
   "id": "510b47ea-93b4-4a5e-9763-8d9b0442dd06",
   "metadata": {},
   "outputs": [
    {
     "name": "stdout",
     "output_type": "stream",
     "text": [
      "\u001b[1m313/313\u001b[0m \u001b[32m━━━━━━━━━━━━━━━━━━━━\u001b[0m\u001b[37m\u001b[0m \u001b[1m1s\u001b[0m 2ms/step - accuracy: 0.1001 - loss: 13.3121\n"
     ]
    }
   ],
   "source": [
    "test_loss,test_accuracy=model.evaluate(x_test,y_test)"
   ]
  },
  {
   "cell_type": "code",
   "execution_count": 37,
   "id": "826701e2-533d-488c-b0af-35f8f267ea32",
   "metadata": {},
   "outputs": [
    {
     "name": "stdout",
     "output_type": "stream",
     "text": [
      "\n",
      "Loss is: 13.309\n",
      "\n",
      "Accuracy is: 0.100\n"
     ]
    }
   ],
   "source": [
    "print(\"\\nLoss is: %.3f\" % test_loss)\n",
    "print(\"\\nAccuracy is: %.3f\" % test_accuracy)"
   ]
  },
  {
   "cell_type": "code",
   "execution_count": 43,
   "id": "b33e8fbf-e21c-476f-8fdd-c5c91a5d4daf",
   "metadata": {},
   "outputs": [],
   "source": [
    "class_names = [\n",
    " 'aeroplane', 'automobile', 'bird', 'cat', 'deer',\n",
    " 'dog', 'frog', 'horse', 'ship', 'truck'\n",
    "]"
   ]
  },
  {
   "cell_type": "code",
   "execution_count": 39,
   "id": "7a26e3ad-8d42-48ab-9065-8c0c09b16780",
   "metadata": {},
   "outputs": [],
   "source": [
    "n=random.randint(0,len(x_test)-1)"
   ]
  },
  {
   "cell_type": "code",
   "execution_count": 40,
   "id": "d9c1dd4b-aace-4f54-82f0-ebd5ebdbe507",
   "metadata": {},
   "outputs": [
    {
     "data": {
      "text/plain": [
       "<matplotlib.image.AxesImage at 0x1c0394dda10>"
      ]
     },
     "execution_count": 40,
     "metadata": {},
     "output_type": "execute_result"
    },
    {
     "data": {
      "image/png": "[encoded data removed]",
      "text/plain": [
       "<Figure size 640x480 with 1 Axes>"
      ]
     },
     "metadata": {},
     "output_type": "display_data"
    }
   ],
   "source": [
    "plt.imshow(x_test[n])"
   ]
  },
  {
   "cell_type": "code",
   "execution_count": 41,
   "id": "9451e659-5e71-42a5-86a5-205965515646",
   "metadata": {},
   "outputs": [
    {
     "name": "stdout",
     "output_type": "stream",
     "text": [
      "\u001b[1m1/1\u001b[0m \u001b[32m━━━━━━━━━━━━━━━━━━━━\u001b[0m\u001b[37m\u001b[0m \u001b[1m0s\u001b[0m 128ms/step\n"
     ]
    }
   ],
   "source": [
    "predicted_value=model.predict(np.expand_dims(x_test[n],axis=0))\n",
    "predicted_class=np.argmax(predicted_value)"
   ]
  },
  {
   "cell_type": "code",
   "execution_count": 44,
   "id": "6b04e466-fc38-4410-8697-1edb13b686a5",
   "metadata": {},
   "outputs": [
    {
     "name": "stdout",
     "output_type": "stream",
     "text": [
      "Predicted_class: aeroplane\n"
     ]
    }
   ],
   "source": [
    "print(\"Predicted_class:\",class_names[predicted_class])"
   ]
  },
  {
   "cell_type": "markdown",
   "id": "52ed68f7-ad7d-4a79-8f89-4f433d0cddcb",
   "metadata": {},
   "source": [
    "Plotting the Graph"
   ]
  },
  {
   "cell_type": "code",
   "execution_count": 50,
   "id": "58092fd4-c7a8-4299-9e40-f4561f1619c9",
   "metadata": {},
   "outputs": [
    {
     "data": {
      "image/png": "[encoded data removed]",
      "text/plain": [
       "<Figure size 640x480 with 1 Axes>"
      ]
     },
     "metadata": {},
     "output_type": "display_data"
    }
   ],
   "source": [
    "plt.plot(history.history['accuracy'])\n",
    "plt.plot(history.history['val_accuracy'])\n",
    "plt.plot(history.history['loss'])\n",
    "plt.plot(history.history['val_loss'])\n",
    "plt.title(\"Training loss and Accuracy\")\n",
    "plt.ylabel(\"accuracy/loss\")\n",
    "plt.xlabel(\"epoch\")\n",
    "plt.legend([\"accuracy\",\"val_accuracy\",\"loss\",\"val_loss\"])\n",
    "plt.show()"
   ]
  },
  {
   "cell_type": "code",
   "execution_count": null,
   "id": "6cba9edc-aed0-4001-98ef-fcca6be140b5",
   "metadata": {},
   "outputs": [],
   "source": []
  }
 ],
 "metadata": {
  "kernelspec": {
   "display_name": "Python 3 (ipykernel)",
   "language": "python",
   "name": "python3"
  },
  "language_info": {
   "codemirror_mode": {
    "name": "ipython",
    "version": 3
   },
   "file_extension": ".py",
   "mimetype": "text/x-python",
   "name": "python",
   "nbconvert_exporter": "python",
   "pygments_lexer": "ipython3",
   "version": "3.11.0"
  }
 },
 "nbformat": 4,
 "nbformat_minor": 5
}
