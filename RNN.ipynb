{
 "cells": [
  {
   "cell_type": "markdown",
   "id": "79b72072-059d-4fc8-b4cb-85f305ff67f2",
   "metadata": {},
   "source": [
    "Using Numpy"
   ]
  },
  {
   "cell_type": "code",
   "execution_count": 2,
   "id": "8f6ea7c1-8919-4ead-bafd-28793c8157af",
   "metadata": {},
   "outputs": [],
   "source": [
    "import numpy as np"
   ]
  },
  {
   "cell_type": "code",
   "execution_count": 3,
   "id": "27fe374b-d7bb-4279-a242-3c42d58f75dc",
   "metadata": {},
   "outputs": [],
   "source": [
    "def sigmoid(x):\n",
    "    return 1/(1+np.exp(-x))"
   ]
  },
  {
   "cell_type": "code",
   "execution_count": 4,
   "id": "f758a051-01dd-42a6-af19-9d29e45986ce",
   "metadata": {},
   "outputs": [],
   "source": [
    "def sigmoid_derivative(x):\n",
    "    return x*(1-x)"
   ]
  },
  {
   "cell_type": "code",
   "execution_count": 5,
   "id": "be7f1d7e-21a7-4ac1-8974-10eec7c98a9b",
   "metadata": {},
   "outputs": [],
   "source": [
    "input_size=5\n",
    "hidden_size=10\n",
    "output_size=1"
   ]
  },
  {
   "cell_type": "markdown",
   "id": "fd8bd5c4-2dbb-4b0b-bf25-e0489667c43e",
   "metadata": {},
   "source": [
    "Assign Weights"
   ]
  },
  {
   "cell_type": "code",
   "execution_count": 15,
   "id": "8871ea14-8bc7-4084-907b-0ac5c7019d6e",
   "metadata": {},
   "outputs": [],
   "source": [
    "wxh=np.random.randn(hidden_size,input_size)\n",
    "whh=np.random.randn(hidden_size,hidden_size)\n",
    "why=np.random.randn(output_size,hidden_size)"
   ]
  },
  {
   "cell_type": "markdown",
   "id": "a4efd532-768c-44cf-a2e6-6b6f3deb58f9",
   "metadata": {},
   "source": [
    "Assigning Bias"
   ]
  },
  {
   "cell_type": "code",
   "execution_count": 17,
   "id": "81e72345-f6fc-4711-b660-5b55eeabb8ae",
   "metadata": {},
   "outputs": [],
   "source": [
    "bh=np.zeros((hidden_size,1))\n",
    "by=np.zeros((output_size,1))\n",
    "h=np.zeros((10,1))"
   ]
  },
  {
   "cell_type": "code",
   "execution_count": 21,
   "id": "58636386-fbc1-48dd-b4ec-615d2d484706",
   "metadata": {},
   "outputs": [],
   "source": [
    "def rnn_step(x,h):\n",
    "    h=sigmoid(np.dot(wxh,x)+np.dot(whh,h)+bh)#computing hidden layer\n",
    "    y=np.dot(why,h)+by#computing output\n",
    "    return h,y"
   ]
  },
  {
   "cell_type": "code",
   "execution_count": 22,
   "id": "c12b15c3-d6f6-4d4f-b783-3f96a5aad50e",
   "metadata": {},
   "outputs": [],
   "source": [
    "x=[np.random.randn(5,1) for _ in range(6)]"
   ]
  },
  {
   "cell_type": "code",
   "execution_count": 23,
   "id": "d9caff95-18cd-4be1-a56b-338db1bff65d",
   "metadata": {},
   "outputs": [
    {
     "name": "stdout",
     "output_type": "stream",
     "text": [
      "Time step0,Output:[[1.19306678]]\n",
      "Time step1,Output:[[-0.60207704]]\n",
      "Time step2,Output:[[1.89480022]]\n",
      "Time step3,Output:[[1.07498529]]\n",
      "Time step4,Output:[[1.37849786]]\n",
      "Time step5,Output:[[1.25092196]]\n"
     ]
    }
   ],
   "source": [
    "for t in range(len(x)):\n",
    "    h,y=rnn_step(x[t],h)\n",
    "    print(f\"Time step{t},Output:{y}\")"
   ]
  },
  {
   "cell_type": "markdown",
   "id": "9f58a11c-c4da-445d-bf21-92dcc5cbec15",
   "metadata": {},
   "source": [
    "#using Keras/Tensorflow"
   ]
  },
  {
   "cell_type": "code",
   "execution_count": 26,
   "id": "21e89325-9f4f-4550-be0d-e349f338718f",
   "metadata": {},
   "outputs": [],
   "source": [
    "import tensorflow as tf\n",
    "from tensorflow.keras.models import Sequential\n",
    "from tensorflow.keras.layers import SimpleRNN,Dense"
   ]
  },
  {
   "cell_type": "code",
   "execution_count": 27,
   "id": "f226db4c-72bf-430c-8f7c-969f6fd3fda8",
   "metadata": {},
   "outputs": [],
   "source": [
    "model=Sequential()"
   ]
  },
  {
   "cell_type": "code",
   "execution_count": 30,
   "id": "178f196b-c54e-4ff8-b1f5-e4292e131988",
   "metadata": {},
   "outputs": [
    {
     "name": "stderr",
     "output_type": "stream",
     "text": [
      "C:\\Users\\Mayuri\\AppData\\Local\\Programs\\Python\\Python311\\Lib\\site-packages\\keras\\src\\layers\\rnn\\rnn.py:204: UserWarning: Do not pass an `input_shape`/`input_dim` argument to a layer. When using Sequential models, prefer using an `Input(shape)` object as the first layer in the model instead.\n",
      "  super().__init__(**kwargs)\n"
     ]
    }
   ],
   "source": [
    "model.add(SimpleRNN(10,input_shape=(None,5)))#i/p size=5,hidden size=10\n",
    "model.add(Dense(1))#output size=1"
   ]
  },
  {
   "cell_type": "code",
   "execution_count": 32,
   "id": "725f09f1-958d-445a-aaac-486efd87b0e5",
   "metadata": {},
   "outputs": [],
   "source": [
    "model.compile(optimizer='adam',loss='mean_squared_error')"
   ]
  },
  {
   "cell_type": "markdown",
   "id": "307df999-ca33-4cae-a752-ce8b57cb89c1",
   "metadata": {},
   "source": [
    "Generate dummy data"
   ]
  },
  {
   "cell_type": "code",
   "execution_count": 34,
   "id": "fc0e1cac-0a99-4257-8634-8887e96ff4d8",
   "metadata": {},
   "outputs": [],
   "source": [
    "x=tf.random.normal([1,6,5])\n",
    "y=tf.random.normal([1,1])"
   ]
  },
  {
   "cell_type": "code",
   "execution_count": 35,
   "id": "033a4f0b-6c52-4ded-9171-545381eb3875",
   "metadata": {},
   "outputs": [
    {
     "name": "stdout",
     "output_type": "stream",
     "text": [
      "Epoch 1/10\n",
      "\u001b[1m1/1\u001b[0m \u001b[32m━━━━━━━━━━━━━━━━━━━━\u001b[0m\u001b[37m\u001b[0m \u001b[1m3s\u001b[0m 3s/step - loss: 1.9431\n",
      "Epoch 2/10\n",
      "\u001b[1m1/1\u001b[0m \u001b[32m━━━━━━━━━━━━━━━━━━━━\u001b[0m\u001b[37m\u001b[0m \u001b[1m0s\u001b[0m 106ms/step - loss: 1.8245\n",
      "Epoch 3/10\n",
      "\u001b[1m1/1\u001b[0m \u001b[32m━━━━━━━━━━━━━━━━━━━━\u001b[0m\u001b[37m\u001b[0m \u001b[1m0s\u001b[0m 50ms/step - loss: 1.7091\n",
      "Epoch 4/10\n",
      "\u001b[1m1/1\u001b[0m \u001b[32m━━━━━━━━━━━━━━━━━━━━\u001b[0m\u001b[37m\u001b[0m \u001b[1m0s\u001b[0m 70ms/step - loss: 1.5971\n",
      "Epoch 5/10\n",
      "\u001b[1m1/1\u001b[0m \u001b[32m━━━━━━━━━━━━━━━━━━━━\u001b[0m\u001b[37m\u001b[0m \u001b[1m0s\u001b[0m 55ms/step - loss: 1.4885\n",
      "Epoch 6/10\n",
      "\u001b[1m1/1\u001b[0m \u001b[32m━━━━━━━━━━━━━━━━━━━━\u001b[0m\u001b[37m\u001b[0m \u001b[1m0s\u001b[0m 52ms/step - loss: 1.3834\n",
      "Epoch 7/10\n",
      "\u001b[1m1/1\u001b[0m \u001b[32m━━━━━━━━━━━━━━━━━━━━\u001b[0m\u001b[37m\u001b[0m \u001b[1m0s\u001b[0m 53ms/step - loss: 1.2820\n",
      "Epoch 8/10\n",
      "\u001b[1m1/1\u001b[0m \u001b[32m━━━━━━━━━━━━━━━━━━━━\u001b[0m\u001b[37m\u001b[0m \u001b[1m0s\u001b[0m 48ms/step - loss: 1.1844\n",
      "Epoch 9/10\n",
      "\u001b[1m1/1\u001b[0m \u001b[32m━━━━━━━━━━━━━━━━━━━━\u001b[0m\u001b[37m\u001b[0m \u001b[1m0s\u001b[0m 54ms/step - loss: 1.0906\n",
      "Epoch 10/10\n",
      "\u001b[1m1/1\u001b[0m \u001b[32m━━━━━━━━━━━━━━━━━━━━\u001b[0m\u001b[37m\u001b[0m \u001b[1m0s\u001b[0m 53ms/step - loss: 1.0009\n"
     ]
    },
    {
     "data": {
      "text/plain": [
       "<keras.src.callbacks.history.History at 0x16dd3db6010>"
      ]
     },
     "execution_count": 35,
     "metadata": {},
     "output_type": "execute_result"
    }
   ],
   "source": [
    "model.fit(x,y,epochs=10)"
   ]
  },
  {
   "cell_type": "code",
   "execution_count": 36,
   "id": "85ec53cb-36a7-4d1f-b063-25143b9762b2",
   "metadata": {},
   "outputs": [
    {
     "name": "stdout",
     "output_type": "stream",
     "text": [
      "\u001b[1m1/1\u001b[0m \u001b[32m━━━━━━━━━━━━━━━━━━━━\u001b[0m\u001b[37m\u001b[0m \u001b[1m0s\u001b[0m 370ms/step\n",
      "Output: [[-0.29541832]]\n"
     ]
    }
   ],
   "source": [
    "output=model.predict(x)\n",
    "print(\"Output:\",output)"
   ]
  },
  {
   "cell_type": "code",
   "execution_count": null,
   "id": "a39b0baa-7106-479f-9feb-ba5704d79d22",
   "metadata": {},
   "outputs": [],
   "source": []
  }
 ],
 "metadata": {
  "kernelspec": {
   "display_name": "Python 3 (ipykernel)",
   "language": "python",
   "name": "python3"
  },
  "language_info": {
   "codemirror_mode": {
    "name": "ipython",
    "version": 3
   },
   "file_extension": ".py",
   "mimetype": "text/x-python",
   "name": "python",
   "nbconvert_exporter": "python",
   "pygments_lexer": "ipython3",
   "version": "3.11.0"
  }
 },
 "nbformat": 4,
 "nbformat_minor": 5
}
