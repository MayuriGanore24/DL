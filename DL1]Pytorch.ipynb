{
 "cells": [
  {
   "cell_type": "code",
   "execution_count": 1,
   "id": "15fff50c-2674-493d-80ad-ef20f5f4b710",
   "metadata": {},
   "outputs": [
    {
     "name": "stdout",
     "output_type": "stream",
     "text": [
      "Collecting torch\n",
      "  Using cached torch-2.4.1-cp311-cp311-win_amd64.whl (199.4 MB)\n",
      "Collecting filelock\n",
      "  Using cached filelock-3.16.1-py3-none-any.whl (16 kB)\n",
      "Requirement already satisfied: typing-extensions>=4.8.0 in c:\\users\\mayuri\\appdata\\local\\programs\\python\\python311\\lib\\site-packages (from torch) (4.8.0)\n",
      "Requirement already satisfied: sympy in c:\\users\\mayuri\\appdata\\local\\programs\\python\\python311\\lib\\site-packages (from torch) (1.13.3)\n",
      "Collecting networkx\n",
      "  Using cached networkx-3.3-py3-none-any.whl (1.7 MB)\n",
      "Requirement already satisfied: jinja2 in c:\\users\\mayuri\\appdata\\local\\programs\\python\\python311\\lib\\site-packages (from torch) (3.1.2)\n",
      "Collecting fsspec\n",
      "  Using cached fsspec-2024.9.0-py3-none-any.whl (179 kB)\n",
      "Requirement already satisfied: MarkupSafe>=2.0 in c:\\users\\mayuri\\appdata\\local\\programs\\python\\python311\\lib\\site-packages (from jinja2->torch) (2.1.3)\n",
      "Requirement already satisfied: mpmath<1.4,>=1.1.0 in c:\\users\\mayuri\\appdata\\local\\programs\\python\\python311\\lib\\site-packages (from sympy->torch) (1.3.0)\n",
      "Installing collected packages: networkx, fsspec, filelock, torch\n",
      "Successfully installed filelock-3.16.1 fsspec-2024.9.0 networkx-3.3 torch-2.4.1\n"
     ]
    },
    {
     "name": "stderr",
     "output_type": "stream",
     "text": [
      "\n",
      "[notice] A new release of pip available: 22.3 -> 24.2\n",
      "[notice] To update, run: python.exe -m pip install --upgrade pip\n"
     ]
    }
   ],
   "source": [
    "!pip install torch"
   ]
  },
  {
   "cell_type": "code",
   "execution_count": 3,
   "id": "97407a77-7eda-427e-a810-f12e6a8c13d1",
   "metadata": {},
   "outputs": [],
   "source": [
    "import torch"
   ]
  },
  {
   "cell_type": "code",
   "execution_count": 8,
   "id": "cd52d92c-77fa-4a77-9dc8-aa071c0c4263",
   "metadata": {},
   "outputs": [],
   "source": [
    "import numpy as np"
   ]
  },
  {
   "cell_type": "code",
   "execution_count": 4,
   "id": "e3fd1831-ba51-4419-9b62-db56f534bc50",
   "metadata": {},
   "outputs": [
    {
     "name": "stdout",
     "output_type": "stream",
     "text": [
      "Tensor: tensor([[1, 2],\n",
      "        [3, 4]])\n"
     ]
    }
   ],
   "source": [
    "x=torch.tensor([[1,2],[3,4]])\n",
    "print(\"Tensor:\",x)"
   ]
  },
  {
   "cell_type": "markdown",
   "id": "0026eb02-8690-44ee-a9f3-cff614733787",
   "metadata": {},
   "source": [
    "Creating Tensor of Ones"
   ]
  },
  {
   "cell_type": "code",
   "execution_count": 6,
   "id": "b0543dd6-6166-488f-80c0-27ff9f1d3526",
   "metadata": {},
   "outputs": [
    {
     "name": "stdout",
     "output_type": "stream",
     "text": [
      "Tensor of Ones: tensor([[1, 1],\n",
      "        [1, 1]])\n"
     ]
    }
   ],
   "source": [
    "x_ones=torch.ones_like(x)\n",
    "print(\"Tensor of Ones:\",x_ones)"
   ]
  },
  {
   "cell_type": "markdown",
   "id": "ccab8d97-a487-46de-830f-b54b0fccf5a8",
   "metadata": {},
   "source": [
    "Create Array using Numpy in torch"
   ]
  },
  {
   "cell_type": "code",
   "execution_count": 9,
   "id": "7c169af1-999b-4bed-9ea1-45be2dee5c7f",
   "metadata": {},
   "outputs": [
    {
     "name": "stdout",
     "output_type": "stream",
     "text": [
      "Array: tensor([[1, 2],\n",
      "        [3, 4]])\n",
      "Datatype of Array: <class 'torch.Tensor'>\n"
     ]
    }
   ],
   "source": [
    "np_array=np.array(x)\n",
    "x_np=torch.from_numpy(np_array)\n",
    "print(\"Array:\",x_np)\n",
    "print(\"Datatype of Array:\",type(x_np))"
   ]
  },
  {
   "cell_type": "markdown",
   "id": "7e936c63-2071-4040-bf06-a7c522117f62",
   "metadata": {},
   "source": [
    "Generate Random"
   ]
  },
  {
   "cell_type": "code",
   "execution_count": 11,
   "id": "9c6667b3-5ee8-4d3c-abdc-02e1a9161d32",
   "metadata": {},
   "outputs": [
    {
     "name": "stdout",
     "output_type": "stream",
     "text": [
      "Random Dataset: tensor([[0.2651, 0.2537],\n",
      "        [0.1127, 0.7344]])\n"
     ]
    }
   ],
   "source": [
    "x_random=torch.rand_like(x,dtype=torch.float)\n",
    "print(\"Random Dataset:\",x_random)"
   ]
  },
  {
   "cell_type": "code",
   "execution_count": 12,
   "id": "b4568311-31bd-4601-a287-d37b7507f0a1",
   "metadata": {},
   "outputs": [
    {
     "name": "stdout",
     "output_type": "stream",
     "text": [
      "tensor([[0.6301, 0.7206, 0.2129],\n",
      "        [0.7866, 0.7216, 0.4284]])\n"
     ]
    }
   ],
   "source": [
    "shape=(2,3)\n",
    "random_tensor=torch.rand(shape)\n",
    "print(random_tensor)"
   ]
  },
  {
   "cell_type": "markdown",
   "id": "a35f0dc6-ab13-4fa4-96e3-4e784ae72e1e",
   "metadata": {},
   "source": [
    "Creating Zeros Tensor"
   ]
  },
  {
   "cell_type": "code",
   "execution_count": 13,
   "id": "c69b9419-ab92-4b1e-8e1a-c031c67f253b",
   "metadata": {},
   "outputs": [
    {
     "name": "stdout",
     "output_type": "stream",
     "text": [
      "Zeros Tensor: tensor([[0., 0., 0.],\n",
      "        [0., 0., 0.]])\n",
      "Datatype of Tensor: <class 'torch.Tensor'>\n"
     ]
    }
   ],
   "source": [
    "zeros_tensor=torch.zeros(shape)\n",
    "print(\"Zeros Tensor:\",zeros_tensor)\n",
    "print(\"Datatype of Tensor:\",type(zeros_tensor))"
   ]
  },
  {
   "cell_type": "markdown",
   "id": "1babc6fe-83e7-44bc-8b3d-cdb9c13fadd3",
   "metadata": {},
   "source": [
    "Creating Random Tensor"
   ]
  },
  {
   "cell_type": "code",
   "execution_count": 15,
   "id": "bf663507-49c6-417a-838a-69c660b997cc",
   "metadata": {},
   "outputs": [
    {
     "name": "stdout",
     "output_type": "stream",
     "text": [
      "tensor([[0.4503, 0.1528, 0.3026, 0.4090],\n",
      "        [0.5660, 0.1228, 0.0214, 0.7195],\n",
      "        [0.7187, 0.1688, 0.9715, 0.3088]])\n"
     ]
    }
   ],
   "source": [
    "tensor = torch.rand(3, 4)\n",
    "print(tensor)"
   ]
  },
  {
   "cell_type": "markdown",
   "id": "81c22ac5-5b5b-4fe7-84f1-a889dfd7b2f7",
   "metadata": {},
   "source": [
    "Printing Torch Attributes"
   ]
  },
  {
   "cell_type": "code",
   "execution_count": 16,
   "id": "dfcac772-506f-453e-9665-6c4aaf5a5a71",
   "metadata": {},
   "outputs": [
    {
     "name": "stdout",
     "output_type": "stream",
     "text": [
      "Shape: torch.Size([3, 4])\n",
      "Datatype: torch.float32\n",
      "Device: cpu\n"
     ]
    }
   ],
   "source": [
    "print(\"Shape:\",tensor.shape)\n",
    "print(\"Datatype:\",tensor.dtype)\n",
    "print(\"Device:\",tensor.device)"
   ]
  },
  {
   "cell_type": "markdown",
   "id": "9f72da15-38ed-4c2a-8b18-d4351f990214",
   "metadata": {},
   "source": [
    "Move tensor to GPU"
   ]
  },
  {
   "cell_type": "code",
   "execution_count": 19,
   "id": "a310b901-da1b-4882-adbc-ce8116a2ddd2",
   "metadata": {},
   "outputs": [],
   "source": [
    "if torch.cuda.is_available():\n",
    "    tensor = tensor.to('cuda')\n",
    "    print(\"Device tensor is stored in \", tensor.device)"
   ]
  },
  {
   "cell_type": "markdown",
   "id": "14ee4cd4-a340-4e30-aa7f-c7977c49ee14",
   "metadata": {},
   "source": [
    "Indexing and Slicing"
   ]
  },
  {
   "cell_type": "code",
   "execution_count": 20,
   "id": "9e0967ac-276a-4eed-8d74-ca9125f1a3d1",
   "metadata": {},
   "outputs": [
    {
     "name": "stdout",
     "output_type": "stream",
     "text": [
      "tensor([[1., 1., 1., 1.],\n",
      "        [1., 1., 1., 1.],\n",
      "        [1., 1., 1., 1.],\n",
      "        [1., 1., 1., 1.]])\n",
      "tensor([[0., 0., 0., 0.],\n",
      "        [0., 0., 0., 0.],\n",
      "        [0., 0., 0., 0.],\n",
      "        [0., 0., 0., 0.]])\n",
      "tensor([[1., 1., 1., 1.],\n",
      "        [1., 1., 1., 1.],\n",
      "        [1., 1., 1., 1.],\n",
      "        [1., 1., 1., 1.],\n",
      "        [0., 0., 0., 0.],\n",
      "        [0., 0., 0., 0.],\n",
      "        [0., 0., 0., 0.],\n",
      "        [0., 0., 0., 0.]])\n"
     ]
    }
   ],
   "source": [
    "tensor = torch.ones(4, 4)\n",
    "print(tensor)\n",
    "tensor1 = torch.zeros(4, 4)\n",
    "print(tensor1)\n",
    "tensor2 = torch.cat([tensor, tensor1])\n",
    "print(tensor2)"
   ]
  },
  {
   "cell_type": "markdown",
   "id": "cb96dd6e-6807-418e-b3e4-c4af025420ac",
   "metadata": {},
   "source": [
    "Multiply Operation on Tensor"
   ]
  },
  {
   "cell_type": "code",
   "execution_count": 21,
   "id": "621e78ac-3651-4619-82a0-7a86f0090d25",
   "metadata": {},
   "outputs": [
    {
     "data": {
      "text/plain": [
       "tensor([[1., 1., 1., 1.],\n",
       "        [1., 1., 1., 1.],\n",
       "        [1., 1., 1., 1.],\n",
       "        [1., 1., 1., 1.]])"
      ]
     },
     "execution_count": 21,
     "metadata": {},
     "output_type": "execute_result"
    }
   ],
   "source": [
    "tensor.mul(tensor1)\n",
    "tensor * tensor1\n",
    "tensor.T"
   ]
  },
  {
   "cell_type": "markdown",
   "id": "db7a45e4-c7e1-406d-8b22-fdeeee8cd0c8",
   "metadata": {},
   "source": [
    "Inplace Operation on Tensor"
   ]
  },
  {
   "cell_type": "code",
   "execution_count": 22,
   "id": "b853218c-e320-4d50-9aaa-972652358aaa",
   "metadata": {},
   "outputs": [
    {
     "name": "stdout",
     "output_type": "stream",
     "text": [
      "tensor([[4., 4., 4., 4.],\n",
      "        [4., 4., 4., 4.],\n",
      "        [4., 4., 4., 4.],\n",
      "        [4., 4., 4., 4.]])\n"
     ]
    }
   ],
   "source": [
    "tensor.add_(3)\n",
    "print(tensor)"
   ]
  },
  {
   "cell_type": "markdown",
   "id": "58fcc114-93a3-4d75-9d43-068f7a57d85c",
   "metadata": {},
   "source": [
    "tensor to numpy"
   ]
  },
  {
   "cell_type": "code",
   "execution_count": 23,
   "id": "4a4c4067-2871-4a9a-a7e4-80963275ab75",
   "metadata": {},
   "outputs": [
    {
     "name": "stdout",
     "output_type": "stream",
     "text": [
      "tensor([1., 1., 1., 1., 1.])\n",
      "[1. 1. 1. 1. 1.]\n",
      "<class 'numpy.ndarray'>\n"
     ]
    }
   ],
   "source": [
    "t = torch.ones(5)\n",
    "print(t)\n",
    "n = t.numpy()\n",
    "print(n)\n",
    "print(type(n))"
   ]
  }
 ],
 "metadata": {
  "kernelspec": {
   "display_name": "Python 3 (ipykernel)",
   "language": "python",
   "name": "python3"
  },
  "language_info": {
   "codemirror_mode": {
    "name": "ipython",
    "version": 3
   },
   "file_extension": ".py",
   "mimetype": "text/x-python",
   "name": "python",
   "nbconvert_exporter": "python",
   "pygments_lexer": "ipython3",
   "version": "3.11.0"
  }
 },
 "nbformat": 4,
 "nbformat_minor": 5
}
