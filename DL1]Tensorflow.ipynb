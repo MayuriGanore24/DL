{
 "cells": [
  {
   "cell_type": "code",
   "execution_count": 2,
   "id": "4603a4c0-d3cf-444e-ae33-f533e141810b",
   "metadata": {},
   "outputs": [],
   "source": [
    "import tensorflow as tf\n",
    "import numpy as np"
   ]
  },
  {
   "cell_type": "code",
   "execution_count": 3,
   "id": "c15c66e3-9251-4357-8dfa-09302d4d595f",
   "metadata": {},
   "outputs": [
    {
     "name": "stdout",
     "output_type": "stream",
     "text": [
      "Addition is: tf.Tensor(3, shape=(), dtype=int32)\n"
     ]
    }
   ],
   "source": [
    "a=tf.constant(1)\n",
    "b=tf.constant(2)\n",
    "print(\"Addition is:\",a+b)"
   ]
  },
  {
   "cell_type": "code",
   "execution_count": 4,
   "id": "ce722194-9143-4a3e-a203-e0cc2db3d93e",
   "metadata": {},
   "outputs": [
    {
     "name": "stdout",
     "output_type": "stream",
     "text": [
      "Multiplication is: tf.Tensor(3696, shape=(), dtype=int32)\n"
     ]
    }
   ],
   "source": [
    "a=tf.constant(56)\n",
    "b=tf.constant(66)\n",
    "print(\"Multiplication is:\",a*b)"
   ]
  },
  {
   "cell_type": "markdown",
   "id": "a49d6664-b629-42ed-9ef6-e5afa267eb56",
   "metadata": {},
   "source": [
    "Generate Random Input"
   ]
  },
  {
   "cell_type": "code",
   "execution_count": 7,
   "id": "3efb793d-488d-4010-a19d-331103b2b211",
   "metadata": {},
   "outputs": [
    {
     "name": "stdout",
     "output_type": "stream",
     "text": [
      "Random Integer: [0.9408461  0.99359787 0.35122436 0.5649167  0.63902193 0.55709803\n",
      " 0.9914307  0.5703783  0.24556029 0.789955  ]\n"
     ]
    }
   ],
   "source": [
    "x=np.random.rand(10).astype(np.float32)\n",
    "print(\"Random Integer:\",x)"
   ]
  },
  {
   "cell_type": "markdown",
   "id": "3da3152e-5673-4528-aba6-e974157a9ad3",
   "metadata": {},
   "source": [
    "Perform Operation on Output Data"
   ]
  },
  {
   "cell_type": "code",
   "execution_count": 8,
   "id": "962d829f-99dc-49fa-989d-4a01bfb3738e",
   "metadata": {},
   "outputs": [
    {
     "name": "stdout",
     "output_type": "stream",
     "text": [
      "Observed Data: [5.940846  5.993598  5.3512244 5.5649166 5.639022  5.557098  5.9914308\n",
      " 5.5703783 5.24556   5.789955 ]\n"
     ]
    }
   ],
   "source": [
    "y=x*1+5\n",
    "print(\"Observed Data:\",y)"
   ]
  },
  {
   "cell_type": "markdown",
   "id": "545c8636-b8da-412c-b88d-3d59bcab9049",
   "metadata": {},
   "source": [
    "Initialize Weight and Bias"
   ]
  },
  {
   "cell_type": "code",
   "execution_count": 9,
   "id": "a3babc3f-213c-4317-b8ab-86479b14107a",
   "metadata": {},
   "outputs": [],
   "source": [
    "w=tf.Variable(tf.random.normal([1]))\n",
    "b=tf.Variable(tf.zeros([1]))"
   ]
  },
  {
   "cell_type": "markdown",
   "id": "330e8b4b-68e1-4544-8ff5-52de69a115f7",
   "metadata": {},
   "source": [
    "Display MSE"
   ]
  },
  {
   "cell_type": "code",
   "execution_count": 10,
   "id": "116ae6c1-a380-4c9c-a429-3e50b1108946",
   "metadata": {},
   "outputs": [],
   "source": [
    "def MSE_Loss():\n",
    "    y_pred=w*x+b\n",
    "    loss=tf.reduce_mean(tf.square(y-y_pred))\n",
    "    return loss"
   ]
  },
  {
   "cell_type": "code",
   "execution_count": 12,
   "id": "fd80c2f0-27c0-47dc-9d32-c89db080e729",
   "metadata": {},
   "outputs": [
    {
     "name": "stdout",
     "output_type": "stream",
     "text": [
      "Loss is: tf.Tensor(28.701025, shape=(), dtype=float32)\n"
     ]
    }
   ],
   "source": [
    "print(\"Loss is:\",MSE_Loss())"
   ]
  },
  {
   "cell_type": "markdown",
   "id": "ca84e31c-134a-4300-be18-2da92a1bc8ed",
   "metadata": {},
   "source": [
    "Reshaping Tensors"
   ]
  },
  {
   "cell_type": "code",
   "execution_count": 15,
   "id": "085a2632-96fa-47c0-8cc3-7b528a3c4a55",
   "metadata": {},
   "outputs": [
    {
     "name": "stdout",
     "output_type": "stream",
     "text": [
      "Reshaped Tensor: tf.Tensor(\n",
      "[[1 2]\n",
      " [3 4]\n",
      " [5 6]], shape=(3, 2), dtype=int32)\n"
     ]
    }
   ],
   "source": [
    "tensor=tf.constant([[1,2,3],[4,5,6]])\n",
    "reshaped_tensor=tf.reshape(tensor,[3,2])\n",
    "print(\"Reshaped Tensor:\",reshaped_tensor)"
   ]
  },
  {
   "cell_type": "markdown",
   "id": "21879fb6-0048-448d-9ac0-c9c11bf13b9f",
   "metadata": {},
   "source": [
    "Matrix Multiplication"
   ]
  },
  {
   "cell_type": "code",
   "execution_count": 17,
   "id": "6fac3ae1-d891-490e-9b43-38a310982544",
   "metadata": {},
   "outputs": [
    {
     "name": "stdout",
     "output_type": "stream",
     "text": [
      "Matrix Multiplication: tf.Tensor(\n",
      "[[ 7 10]\n",
      " [15 22]], shape=(2, 2), dtype=int32)\n"
     ]
    }
   ],
   "source": [
    "a=tf.constant([[1,2],[3,4]])\n",
    "b=tf.constant([[1,2],[3,4]])\n",
    "matrix_mul=tf.matmul(a,b)\n",
    "print(\"Matrix Multiplication:\",matrix_mul)"
   ]
  },
  {
   "cell_type": "code",
   "execution_count": null,
   "id": "20523a4d-f3c8-4ed0-a2bc-dd83ee88772a",
   "metadata": {},
   "outputs": [],
   "source": []
  }
 ],
 "metadata": {
  "kernelspec": {
   "display_name": "Python 3 (ipykernel)",
   "language": "python",
   "name": "python3"
  },
  "language_info": {
   "codemirror_mode": {
    "name": "ipython",
    "version": 3
   },
   "file_extension": ".py",
   "mimetype": "text/x-python",
   "name": "python",
   "nbconvert_exporter": "python",
   "pygments_lexer": "ipython3",
   "version": "3.11.0"
  }
 },
 "nbformat": 4,
 "nbformat_minor": 5
}
